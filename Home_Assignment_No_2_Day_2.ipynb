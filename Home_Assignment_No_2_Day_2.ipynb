{
  "nbformat": 4,
  "nbformat_minor": 0,
  "metadata": {
    "colab": {
      "name": "Home_Assignment_No-2_Day-2.ipynb",
      "provenance": [],
      "collapsed_sections": []
    },
    "kernelspec": {
      "name": "python3",
      "display_name": "Python 3"
    },
    "language_info": {
      "name": "python"
    }
  },
  "cells": [
    {
      "cell_type": "markdown",
      "source": [
        "## **Problem 01**\n",
        "\n",
        "### **Figures to Words (Western Style)**\n",
        "\n",
        "Write a function to convert figures to words in Western Number System using Dictionary:\n",
        "\n",
        "1367 -> \"One thousand three hundred and sixty seven\"\n",
        "\n",
        "18934345 -> \"Eighteen million nine hundred and thirty four thousand three hundred and forty five\"\n",
        "\n",
        "**Note:** You can assume that the numbers are below 1 trillion"
      ],
      "metadata": {
        "id": "1eFZa_-Do3HF"
      }
    },
    {
      "cell_type": "code",
      "execution_count": null,
      "metadata": {
        "id": "5peioadboo6u"
      },
      "outputs": [],
      "source": [
        "single_digit_number = {0: 'Zero', 1: 'One', 2: 'Two', 3: 'Three', 4: 'Four', 5: 'Five', 6: 'Six', 7: 'Seven', 8: 'Eight',\n",
        "                       9: 'Nine'}\n",
        "\n",
        "ten_to_twenty = {10: 'Ten', 11: 'Eleven', 12: 'Twelve', 13: 'Thirteen', 14: 'Fourteen', 15: 'Fifteen', 16: 'Sixteen',\n",
        "                 17: 'Seventeen', 18: 'Eighteen', 19: 'Nineteen'}\n",
        "\n",
        "twenty_to_ninety = {20: 'Twenty', 30: 'Thirty', 40: 'Forty', 50: 'Fifty', 60: 'Sixty', 70: 'Seventy', 80: 'Eighty', 90: 'Ninety'}\n",
        "\n",
        "def single_digit_num(digit):\n",
        "    if 0 <= digit < 10:\n",
        "        return single_digit_number[digit]\n",
        "\n",
        "def two_digits_num(number):\n",
        "    if 10 <= number < 20:\n",
        "        return ten_to_twenty[number]\n",
        "\n",
        "    if 20 <= number < 100:\n",
        "        div = (number // 10) * 10\n",
        "        numb = number % 10\n",
        "        if numb != 0:\n",
        "            return twenty_to_ninety[div] + \"-\" + single_digit_num(numb)\n",
        "        else:\n",
        "            return twenty_to_ninety[number]\n",
        "\n",
        "def three_digits_num(number):\n",
        "    if 100 <= number < 1000:\n",
        "        div = number // 100\n",
        "        numb = number % 100\n",
        "        if numb != 0:\n",
        "            if numb < 10:\n",
        "                return single_digit_num(div) + \" hundred \" +  \\\n",
        "                   single_digit_num(numb)\n",
        "            elif numb < 100:\n",
        "                return single_digit_num(div) + \" hundred and \" + \\\n",
        "                   two_digits_num(numb)\n",
        "        else:\n",
        "            return single_digit_num(div) + \" hundred \"\n",
        "\n",
        "def western_number_system(number):\n",
        "    if -1000000000 < number < 1000000000:\n",
        "        if number == 0:\n",
        "            return single_digit_num(number)\n",
        "        a = \"\"\n",
        "        neg = False\n",
        "        if number < 0:\n",
        "            neg = True\n",
        "            number *= -1\n",
        "        l = 0\n",
        "        while number:\n",
        "            numb = number % 1000\n",
        "            if numb != 0:\n",
        "                c = three_digits_num(numb) or two_digits_num(numb) \\\n",
        "                or single_digit_num(numb)\n",
        "                if l == 0:\n",
        "                    a = c + \" \" + a\n",
        "                elif l == 1:\n",
        "                    a = c + \" thousand \" + a\n",
        "                elif l == 2:\n",
        "                    a = c + \" million \" + a\n",
        "            number = number // 1000\n",
        "            l += 1\n",
        "        if neg:\n",
        "            return \"Negative \" + a\n",
        "        return a\n",
        "    \n"
      ]
    },
    {
      "cell_type": "code",
      "source": [
        "# western_number_system(-18934345)\n",
        "# western_number_system(1367)\n",
        "western_number_system(18934345)\n",
        "# western_number_system(0)"
      ],
      "metadata": {
        "colab": {
          "base_uri": "https://localhost:8080/",
          "height": 36
        },
        "id": "bLQcRd6KlWF9",
        "outputId": "eee2eb46-489b-40ff-a957-569c85fb2ce7"
      },
      "execution_count": null,
      "outputs": [
        {
          "output_type": "execute_result",
          "data": {
            "text/plain": [
              "'Eighteen million Nine hundred and Thirty-Four thousand Three hundred and Forty-Five '"
            ],
            "application/vnd.google.colaboratory.intrinsic+json": {
              "type": "string"
            }
          },
          "metadata": {},
          "execution_count": 6
        }
      ]
    },
    {
      "cell_type": "markdown",
      "source": [
        "# **Problem 02**\n",
        "\n",
        "### **Roman to Arabic and Arabic to Roman**\n",
        "\n",
        "Implement two functions that converts roman number to arabic number and vice versa\n",
        "\n",
        "Example:\n",
        "\n",
        " > roman2arabic(\"V\") --> 5\n",
        "\n",
        " > arabic2roman(9) --> \"IX\""
      ],
      "metadata": {
        "id": "m8m5VUy_pHpW"
      }
    },
    {
      "cell_type": "code",
      "source": [
        "import math\n",
        "#  Integer to Roman Number \n",
        "def int_to_roman(A):\n",
        "    int_to_roman_Dict = \\\n",
        "        { 1: \"I\", 5: \"V\", 10: \"X\", 50: \"L\", 100: \"C\", 500: \"D\", 1000: \"M\", 5000: \"G\", 10000: \"H\" }\n",
        "    div = 1\n",
        "    while A >= div:\n",
        "        div *= 10\n",
        "    div /= 10\n",
        "    res = \"\"\n",
        "    while A:\n",
        "        lastNum = int(A / div)\n",
        "        if lastNum <= 3:\n",
        "            res += (int_to_roman_Dict[div] * lastNum)\n",
        "        elif lastNum == 4:\n",
        "            res += (int_to_roman_Dict[div] + int_to_roman_Dict[div * 5])\n",
        "        elif 5 <= lastNum <= 8:\n",
        "            res += (int_to_roman_Dict[div * 5] +\n",
        "            (int_to_roman_Dict[div] * (lastNum - 5)))\n",
        "        elif lastNum == 9:\n",
        "            res += (int_to_roman_Dict[div] + int_to_roman_Dict[div * 10])\n",
        "        A = math.floor(A % div)\n",
        "        div /= 10\n",
        "    return res\n"
      ],
      "metadata": {
        "id": "F-yVGbe1pMwu"
      },
      "execution_count": null,
      "outputs": []
    },
    {
      "cell_type": "code",
      "source": [
        "int_to_roman(911)"
      ],
      "metadata": {
        "colab": {
          "base_uri": "https://localhost:8080/",
          "height": 36
        },
        "id": "rl2FT-OHmZif",
        "outputId": "c1d4dbcb-2b7d-47a7-da7b-593b6b8a26d4"
      },
      "execution_count": null,
      "outputs": [
        {
          "output_type": "execute_result",
          "data": {
            "text/plain": [
              "'CMXI'"
            ],
            "application/vnd.google.colaboratory.intrinsic+json": {
              "type": "string"
            }
          },
          "metadata": {},
          "execution_count": 8
        }
      ]
    },
    {
      "cell_type": "code",
      "source": [
        "# Roman Number to Integer Number\n",
        "def roman_to_int(num):\n",
        "    roman_Dict={\"I\":1,\"V\":5,\"X\":10,\"L\":50,\"C\":100,\"D\":500,\"M\":1000}\n",
        "    intg =0\n",
        "    for i in range(len(num)):\n",
        "        value=roman_Dict[num[i]]\n",
        "        if i+1<len(num) and roman_Dict[num[i+1]] >value:\n",
        "            intg -=value\n",
        "        else:\n",
        "            intg += value\n",
        "    return intg"
      ],
      "metadata": {
        "id": "V-j4DrlPmWav"
      },
      "execution_count": null,
      "outputs": []
    },
    {
      "cell_type": "code",
      "source": [
        "roman_to_int(\"CMXI\")"
      ],
      "metadata": {
        "colab": {
          "base_uri": "https://localhost:8080/"
        },
        "id": "DtC1KRrBlc-b",
        "outputId": "5b2e4a68-2f60-4604-ad03-1eb74de75e11"
      },
      "execution_count": null,
      "outputs": [
        {
          "output_type": "execute_result",
          "data": {
            "text/plain": [
              "911"
            ]
          },
          "metadata": {},
          "execution_count": 10
        }
      ]
    }
  ]
}